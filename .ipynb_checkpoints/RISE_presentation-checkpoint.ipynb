{
 "cells": [
  {
   "cell_type": "markdown",
   "id": "126bfc9b",
   "metadata": {
    "slideshow": {
     "slide_type": "slide"
    }
   },
   "source": [
    "## <div style=\"text-align: center; font-size: 36px;\">Introduction to ensemble clustering</div>"
   ]
  },
  {
   "cell_type": "markdown",
   "id": "2ced4a60",
   "metadata": {
    "slideshow": {
     "slide_type": "slide"
    }
   },
   "source": [
    " ## Idea and purpose of cluster analysis"
   ]
  },
  {
   "attachments": {},
   "cell_type": "markdown",
   "id": "11f70983",
   "metadata": {
    "cell_style": "split",
    "slideshow": {
     "slide_type": "fragment"
    }
   },
   "source": [
    "<figure>\n",
    "    <img src=\"k-means-clustering.png\" width=\"900\" height=\"600\" alt=\"K-means Clustering\">\n",
    "    <figcaption>Source: https://www.javatpoint.com/k-means-clustering-algorithm-in-machine-learning</figcaption>\n",
    "</figure>"
   ]
  },
  {
   "cell_type": "markdown",
   "id": "667e24e0",
   "metadata": {
    "cell_style": "split",
    "slideshow": {
     "slide_type": "fragment"
    }
   },
   "source": [
    "Cluster analysis is an example of unsupervised machine learning and focuses on detecting the internal structure of the data, such that each cluster contains objects that are similar to each other.\n",
    "\n",
    "* Cluster - group of objects in a dataset that are similar to each other\n",
    "* Partition - division of the entire dataset into a finite number K of subsets (clusters), where each data point belongs to exactly one subset."
   ]
  },
  {
   "cell_type": "markdown",
   "id": "851fb08f",
   "metadata": {
    "slideshow": {
     "slide_type": "slide"
    }
   },
   "source": [
    "## Potential problems of clustering \n",
    "* Application of two different clustering algorithms to the same dataset may produce completely different results.\n",
    "* Evaluating the performance of clustering models is relatively challenging.\n",
    "* Basic clustering algorithms often have problems with detecting unusual cluster shapes.\n",
    "\n",
    "To tackle these problems, <span style=\"font-weight: bold;\"> ensemble clustering </span>might be used."
   ]
  },
  {
   "cell_type": "markdown",
   "id": "ed1d35e6",
   "metadata": {
    "cell_style": "center",
    "slideshow": {
     "slide_type": "slide"
    }
   },
   "source": [
    "## What is ensemble clustering (a.k.a. consensus clustering)?\n",
    "Ensemble clustering combines the creation of multiple partitions for a given dataset and using the relationships observed between them to determine a final, single partition. The goal is to find a more reliable, improved solution than with individual grouping.\n",
    "\n",
    "Clustering ensemble is always made up of two steps:\n",
    "* Generate $M$ partitions $P = \\{P_1, P_2, \\dots, P_M\\} $ using selected clustering algorithms.\n",
    "* Combining the obtained partitions into one final partition $P^{*}$ using a consensus function $\\Gamma$.\n",
    "<br>\n",
    "<figure>\n",
    "    <img src=\"clusters_graph.png\" width=\"900\" height=\"500\" alt=\"K-means Clustering\" align=\"center\"><br>\n",
    "    <figcaption style=\"font-size: 16px; color: grey;\">Source: https://www.semanticscholar.org/paper/A-Survey-of-Clustering-Ensemble-Algorithms-Vega-Pons-Ruiz-Shulcloper/0d1b7d01fb2634b6160a96bbdd73f918ed3859cb</figcaption>\n",
    "</figure>"
   ]
  },
  {
   "cell_type": "markdown",
   "id": "18cab311",
   "metadata": {
    "cell_style": "center",
    "slideshow": {
     "slide_type": "slide"
    }
   },
   "source": []
  },
  {
   "cell_type": "code",
   "execution_count": null,
   "id": "8249328f",
   "metadata": {},
   "outputs": [],
   "source": []
  }
 ],
 "metadata": {
  "celltoolbar": "Slideshow",
  "kernelspec": {
   "display_name": "Python 3",
   "language": "python",
   "name": "python3"
  },
  "language_info": {
   "codemirror_mode": {
    "name": "ipython",
    "version": 3
   },
   "file_extension": ".py",
   "mimetype": "text/x-python",
   "name": "python",
   "nbconvert_exporter": "python",
   "pygments_lexer": "ipython3",
   "version": "3.7.9"
  }
 },
 "nbformat": 4,
 "nbformat_minor": 5
}
