{
 "cells": [
  {
   "cell_type": "code",
   "execution_count": 9,
   "id": "32341e0c",
   "metadata": {},
   "outputs": [
    {
     "data": {
      "text/plain": [
       "180"
      ]
     },
     "execution_count": 9,
     "metadata": {},
     "output_type": "execute_result"
    }
   ],
   "source": [
    "def rental_car_cost(d):\n",
    "    if d >0 and d<3:\n",
    "        total_cost=40*d\n",
    "    elif d >=3 and d<8:\n",
    "        total_cost=40*d - 20\n",
    "    else:\n",
    "        total_cost=40*d-50\n",
    "    return total_cost\n",
    "        \n",
    "rental_car_cost(5)"
   ]
  },
  {
   "cell_type": "code",
   "execution_count": null,
   "id": "2ddfc958",
   "metadata": {},
   "outputs": [],
   "source": []
  }
 ],
 "metadata": {
  "kernelspec": {
   "display_name": "Python 3",
   "language": "python",
   "name": "python3"
  },
  "language_info": {
   "codemirror_mode": {
    "name": "ipython",
    "version": 3
   },
   "file_extension": ".py",
   "mimetype": "text/x-python",
   "name": "python",
   "nbconvert_exporter": "python",
   "pygments_lexer": "ipython3",
   "version": "3.7.9"
  }
 },
 "nbformat": 4,
 "nbformat_minor": 5
}
